{
 "cells": [
  {
   "cell_type": "code",
   "execution_count": 1,
   "id": "9d3f9076",
   "metadata": {
    "execution": {
     "iopub.execute_input": "2025-06-11T10:47:30.784044Z",
     "iopub.status.busy": "2025-06-11T10:47:30.783821Z",
     "iopub.status.idle": "2025-06-11T10:47:30.788471Z",
     "shell.execute_reply": "2025-06-11T10:47:30.787871Z"
    },
    "papermill": {
     "duration": 0.013306,
     "end_time": "2025-06-11T10:47:30.789512",
     "exception": false,
     "start_time": "2025-06-11T10:47:30.776206",
     "status": "completed"
    },
    "tags": [
     "injected-parameters"
    ]
   },
   "outputs": [],
   "source": [
    "# Parameters\n",
    "name = \"Xa\"\n",
    "surname = \"Hu\"\n",
    "sector = \"S\\u0259hhiyy\\u0259\"\n",
    "field = \"H\\u0259kiml\\u0259rin say\\u0131\"\n",
    "start_year = 2026\n",
    "end_year = 2028\n",
    "generated_at = \"2025-06-11 14:47:28\"\n"
   ]
  },
  {
   "cell_type": "code",
   "execution_count": 2,
   "id": "537edec2",
   "metadata": {
    "execution": {
     "iopub.execute_input": "2025-06-11T10:47:30.796356Z",
     "iopub.status.busy": "2025-06-11T10:47:30.796149Z",
     "iopub.status.idle": "2025-06-11T10:47:33.244853Z",
     "shell.execute_reply": "2025-06-11T10:47:33.244301Z"
    },
    "id": "3qpND_NLiBir",
    "papermill": {
     "duration": 2.453359,
     "end_time": "2025-06-11T10:47:33.246001",
     "exception": false,
     "start_time": "2025-06-11T10:47:30.792642",
     "status": "completed"
    },
    "tags": []
   },
   "outputs": [],
   "source": [
    "import pandas as pd\n",
    "import numpy as np\n",
    "import matplotlib.pyplot as plt\n",
    "import seaborn as sns\n",
    "from statsmodels.tsa.arima.model import ARIMA\n",
    "from statsmodels.tsa.seasonal import seasonal_decompose\n",
    "from statsmodels.tsa.stattools import adfuller\n",
    "from sklearn.ensemble import RandomForestRegressor\n",
    "from sklearn.linear_model import LinearRegression\n",
    "from sklearn.metrics import mean_absolute_error, mean_squared_error\n",
    "import warnings\n",
    "import matplotlib\n",
    "matplotlib.use('Agg')\n",
    "warnings.filterwarnings('ignore')"
   ]
  },
  {
   "cell_type": "code",
   "execution_count": 3,
   "id": "8ad5d4a1",
   "metadata": {
    "execution": {
     "iopub.execute_input": "2025-06-11T10:47:33.253391Z",
     "iopub.status.busy": "2025-06-11T10:47:33.253093Z",
     "iopub.status.idle": "2025-06-11T10:47:33.303493Z",
     "shell.execute_reply": "2025-06-11T10:47:33.302833Z"
    },
    "id": "pBz8-UvWiRl0",
    "papermill": {
     "duration": 0.055478,
     "end_time": "2025-06-11T10:47:33.304599",
     "exception": false,
     "start_time": "2025-06-11T10:47:33.249121",
     "status": "completed"
    },
    "tags": []
   },
   "outputs": [
    {
     "name": "stderr",
     "output_type": "stream",
     "text": [
      "Importing plotly failed. Interactive plots will not work.\n"
     ]
    }
   ],
   "source": [
    "# Prophet model (alternative implementation)\n",
    "try:\n",
    "    from prophet import Prophet\n",
    "    PROPHET_AVAILABLE = True\n",
    "except ImportError:\n",
    "    PROPHET_AVAILABLE = False\n",
    "    print(\"Prophet not available, using alternative forecasting methods\")\n"
   ]
  },
  {
   "cell_type": "code",
   "execution_count": 4,
   "id": "4775abd7",
   "metadata": {
    "execution": {
     "iopub.execute_input": "2025-06-11T10:47:33.310765Z",
     "iopub.status.busy": "2025-06-11T10:47:33.310560Z",
     "iopub.status.idle": "2025-06-11T10:47:33.451234Z",
     "shell.execute_reply": "2025-06-11T10:47:33.450715Z"
    },
    "id": "IkJapY8wiYUQ",
    "papermill": {
     "duration": 0.14502,
     "end_time": "2025-06-11T10:47:33.452272",
     "exception": false,
     "start_time": "2025-06-11T10:47:33.307252",
     "status": "completed"
    },
    "tags": []
   },
   "outputs": [],
   "source": [
    "from matplotlib.backends.backend_pdf import PdfPages\n",
    "import matplotlib.patches as patches\n",
    "from datetime import datetime, timedelta"
   ]
  },
  {
   "cell_type": "code",
   "execution_count": 5,
   "id": "7e0db3c9",
   "metadata": {
    "execution": {
     "iopub.execute_input": "2025-06-11T10:47:33.458876Z",
     "iopub.status.busy": "2025-06-11T10:47:33.458665Z",
     "iopub.status.idle": "2025-06-11T10:47:33.461745Z",
     "shell.execute_reply": "2025-06-11T10:47:33.461234Z"
    },
    "id": "-wN4lzDViapu",
    "papermill": {
     "duration": 0.007481,
     "end_time": "2025-06-11T10:47:33.462685",
     "exception": false,
     "start_time": "2025-06-11T10:47:33.455204",
     "status": "completed"
    },
    "tags": []
   },
   "outputs": [],
   "source": [
    "# Set matplotlib to use available fonts\n",
    "plt.rcParams['font.family'] = ['DejaVu Sans', 'sans-serif']\n",
    "plt.rcParams['font.size'] = 10\n",
    "plt.rcParams['figure.figsize'] = (12, 8)\n",
    "# Enable Unicode support\n",
    "plt.rcParams['axes.unicode_minus'] = False"
   ]
  },
  {
   "cell_type": "code",
   "execution_count": 6,
   "id": "c73b5f46",
   "metadata": {
    "execution": {
     "iopub.execute_input": "2025-06-11T10:47:33.468778Z",
     "iopub.status.busy": "2025-06-11T10:47:33.468580Z",
     "iopub.status.idle": "2025-06-11T10:47:33.471648Z",
     "shell.execute_reply": "2025-06-11T10:47:33.471053Z"
    },
    "id": "vy2w-JhZidAC",
    "papermill": {
     "duration": 0.00726,
     "end_time": "2025-06-11T10:47:33.472596",
     "exception": false,
     "start_time": "2025-06-11T10:47:33.465336",
     "status": "completed"
    },
    "tags": []
   },
   "outputs": [],
   "source": [
    "# Read the CSV data\n",
    "def read_healthcare_data():\n",
    "    # Read CSV data\n",
    "    df = pd.read_csv('output_cleaned.csv')\n",
    "    df['Tarix'] = pd.to_datetime(df['Tarix'], format='%Y')\n",
    "    df.set_index('Tarix', inplace=True)\n",
    "    return df"
   ]
  },
  {
   "cell_type": "code",
   "execution_count": 7,
   "id": "57f17651",
   "metadata": {
    "execution": {
     "iopub.execute_input": "2025-06-11T10:47:33.479098Z",
     "iopub.status.busy": "2025-06-11T10:47:33.478895Z",
     "iopub.status.idle": "2025-06-11T10:47:33.482595Z",
     "shell.execute_reply": "2025-06-11T10:47:33.482081Z"
    },
    "papermill": {
     "duration": 0.008279,
     "end_time": "2025-06-11T10:47:33.483602",
     "exception": false,
     "start_time": "2025-06-11T10:47:33.475323",
     "status": "completed"
    },
    "tags": []
   },
   "outputs": [],
   "source": [
    "def linear_trend_forecast(series, periods=3):\n",
    "    \"\"\"Linear trend forecasting as fallback\"\"\"\n",
    "    X = np.arange(len(series)).reshape(-1, 1)\n",
    "    y = series.values\n",
    "\n",
    "    model = LinearRegression()\n",
    "    model.fit(X, y)\n",
    "\n",
    "    future_X = np.arange(len(series), len(series) + periods).reshape(-1, 1)\n",
    "    forecast = model.predict(future_X)\n",
    "\n",
    "    # Simple confidence interval estimation\n",
    "    residuals = y - model.predict(X)\n",
    "    std_error = np.std(residuals)\n",
    "    conf_int = np.column_stack([forecast - 1.96*std_error, forecast + 1.96*std_error])\n",
    "\n",
    "    return forecast, conf_int, model"
   ]
  },
  {
   "cell_type": "code",
   "execution_count": 8,
   "id": "178faba3",
   "metadata": {
    "execution": {
     "iopub.execute_input": "2025-06-11T10:47:33.491096Z",
     "iopub.status.busy": "2025-06-11T10:47:33.490873Z",
     "iopub.status.idle": "2025-06-11T10:47:33.494896Z",
     "shell.execute_reply": "2025-06-11T10:47:33.494287Z"
    },
    "id": "s7DloKncig5t",
    "papermill": {
     "duration": 0.009185,
     "end_time": "2025-06-11T10:47:33.495923",
     "exception": false,
     "start_time": "2025-06-11T10:47:33.486738",
     "status": "completed"
    },
    "tags": []
   },
   "outputs": [],
   "source": [
    "# Time series forecasting functions\n",
    "def arima_forecast(series, periods=3, order=(1,1,1)):\n",
    "    \"\"\"ARIMA forecasting\"\"\"\n",
    "    try:\n",
    "        model = ARIMA(series, order=order)\n",
    "        fitted_model = model.fit()\n",
    "        forecast = fitted_model.forecast(steps=periods)\n",
    "        conf_int = fitted_model.get_forecast(steps=periods).conf_int()\n",
    "        return forecast.values, conf_int.values, fitted_model\n",
    "    except:\n",
    "        try:\n",
    "            # Fallback to simple ARIMA\n",
    "            model = ARIMA(series, order=(1,1,0))\n",
    "            fitted_model = model.fit()\n",
    "            forecast = fitted_model.forecast(steps=periods)\n",
    "            conf_int = fitted_model.get_forecast(steps=periods).conf_int()\n",
    "            return forecast.values, conf_int.values, fitted_model\n",
    "        except:\n",
    "            # Final fallback to linear trend\n",
    "            return linear_trend_forecast(series, periods)"
   ]
  },
  {
   "cell_type": "code",
   "execution_count": 9,
   "id": "bec76c8d",
   "metadata": {
    "execution": {
     "iopub.execute_input": "2025-06-11T10:47:33.502847Z",
     "iopub.status.busy": "2025-06-11T10:47:33.502472Z",
     "iopub.status.idle": "2025-06-11T10:47:33.506307Z",
     "shell.execute_reply": "2025-06-11T10:47:33.505807Z"
    },
    "id": "BBSxUhsbilFf",
    "papermill": {
     "duration": 0.008455,
     "end_time": "2025-06-11T10:47:33.507287",
     "exception": false,
     "start_time": "2025-06-11T10:47:33.498832",
     "status": "completed"
    },
    "tags": []
   },
   "outputs": [],
   "source": [
    "def prophet_forecast(series, periods=3):\n",
    "    \"\"\"Prophet forecasting (if available)\"\"\"\n",
    "    if not PROPHET_AVAILABLE:\n",
    "        return linear_trend_forecast(series, periods)\n",
    "\n",
    "    try:\n",
    "        df = pd.DataFrame({\n",
    "            'ds': series.index,\n",
    "            'y': series.values\n",
    "        })\n",
    "\n",
    "        model = Prophet(yearly_seasonality=True, daily_seasonality=False, weekly_seasonality=False)\n",
    "        model.fit(df)\n",
    "\n",
    "        future = model.make_future_dataframe(periods=periods, freq='Y')\n",
    "        forecast = model.predict(future)\n",
    "\n",
    "        forecast_values = forecast.tail(periods)['yhat'].values\n",
    "        conf_int = forecast.tail(periods)[['yhat_lower', 'yhat_upper']].values\n",
    "\n",
    "        return forecast_values, conf_int, model\n",
    "    except:\n",
    "        return linear_trend_forecast(series, periods)"
   ]
  },
  {
   "cell_type": "code",
   "execution_count": 10,
   "id": "b02aba32",
   "metadata": {
    "execution": {
     "iopub.execute_input": "2025-06-11T10:47:33.513413Z",
     "iopub.status.busy": "2025-06-11T10:47:33.513210Z",
     "iopub.status.idle": "2025-06-11T10:47:33.517343Z",
     "shell.execute_reply": "2025-06-11T10:47:33.516771Z"
    },
    "id": "QAcPszBlitou",
    "papermill": {
     "duration": 0.008498,
     "end_time": "2025-06-11T10:47:33.518318",
     "exception": false,
     "start_time": "2025-06-11T10:47:33.509820",
     "status": "completed"
    },
    "tags": []
   },
   "outputs": [],
   "source": [
    "def random_forest_forecast(series, periods=3):\n",
    "    \"\"\"Random Forest forecasting\"\"\"\n",
    "    # Create features (lagged values)\n",
    "    n_lags = min(5, len(series) // 2)\n",
    "    X, y = [], []\n",
    "\n",
    "    for i in range(n_lags, len(series)):\n",
    "        X.append(series.values[i-n_lags:i])\n",
    "        y.append(series.values[i])\n",
    "\n",
    "    X, y = np.array(X), np.array(y)\n",
    "\n",
    "    model = RandomForestRegressor(n_estimators=100, random_state=42)\n",
    "    model.fit(X, y)\n",
    "\n",
    "    # Generate forecasts\n",
    "    forecasts = []\n",
    "    last_values = series.values[-n_lags:]\n",
    "\n",
    "    for _ in range(periods):\n",
    "        pred = model.predict([last_values])[0]\n",
    "        forecasts.append(pred)\n",
    "        last_values = np.append(last_values[1:], pred)\n",
    "\n",
    "    return np.array(forecasts), None, model"
   ]
  },
  {
   "cell_type": "code",
   "execution_count": 11,
   "id": "c331d23e",
   "metadata": {
    "execution": {
     "iopub.execute_input": "2025-06-11T10:47:33.524351Z",
     "iopub.status.busy": "2025-06-11T10:47:33.524154Z",
     "iopub.status.idle": "2025-06-11T10:47:33.528266Z",
     "shell.execute_reply": "2025-06-11T10:47:33.527780Z"
    },
    "id": "iE_cehSaiwU8",
    "papermill": {
     "duration": 0.008334,
     "end_time": "2025-06-11T10:47:33.529258",
     "exception": false,
     "start_time": "2025-06-11T10:47:33.520924",
     "status": "completed"
    },
    "tags": []
   },
   "outputs": [],
   "source": [
    "# Analysis functions\n",
    "def perform_analysis():\n",
    "    df = read_healthcare_data()\n",
    "    # Key specialties to analyze\n",
    "    specialties = [\n",
    "        'Həkimlərin sayı - cəmi',\n",
    "        'terapevtlər',\n",
    "        'cərrahlar',\n",
    "        'pediatrlar',\n",
    "        'stomatoloq və diş həkimləri'\n",
    "    ]\n",
    "    results = {}\n",
    "\n",
    "    for specialty in specialties:\n",
    "        series = df[specialty]\n",
    "\n",
    "        # ARIMA forecast\n",
    "        arima_pred, arima_conf, arima_model = arima_forecast(series)\n",
    "\n",
    "        # Prophet forecast\n",
    "        prophet_pred, prophet_conf, prophet_model = prophet_forecast(series)\n",
    "\n",
    "        # Random Forest forecast\n",
    "        rf_pred, rf_conf, rf_model = random_forest_forecast(series)\n",
    "\n",
    "        # Linear trend forecast\n",
    "        linear_pred, linear_conf, linear_model = linear_trend_forecast(series)\n",
    "\n",
    "        results[specialty] = {\n",
    "            'historical': series,\n",
    "            'arima': {'forecast': arima_pred, 'conf_int': arima_conf, 'model': arima_model},\n",
    "            'prophet': {'forecast': prophet_pred, 'conf_int': prophet_conf, 'model': prophet_model},\n",
    "            'rf': {'forecast': rf_pred, 'conf_int': rf_conf, 'model': rf_model},\n",
    "            'linear': {'forecast': linear_pred, 'conf_int': linear_conf, 'model': linear_model}\n",
    "        }\n",
    "\n",
    "    return results"
   ]
  },
  {
   "cell_type": "code",
   "execution_count": 12,
   "id": "0205cbfc",
   "metadata": {
    "execution": {
     "iopub.execute_input": "2025-06-11T10:47:33.535295Z",
     "iopub.status.busy": "2025-06-11T10:47:33.535101Z",
     "iopub.status.idle": "2025-06-11T10:47:33.542850Z",
     "shell.execute_reply": "2025-06-11T10:47:33.542180Z"
    },
    "id": "T3bnVcd8p2KH",
    "papermill": {
     "duration": 0.012314,
     "end_time": "2025-06-11T10:47:33.544049",
     "exception": false,
     "start_time": "2025-06-11T10:47:33.531735",
     "status": "completed"
    },
    "tags": []
   },
   "outputs": [],
   "source": [
    "def create_forecast_plot(specialty, data, ax):\n",
    "    \"\"\"Create forecast visualization for a specialty with custom methods for each\"\"\"\n",
    "    historical = data['historical']\n",
    "\n",
    "    # Plot historical data\n",
    "    ax.plot(historical.index, historical.values, 'o-', label='Tarixi məlumatlar',\n",
    "            color='blue', linewidth=2, markersize=4)\n",
    "\n",
    "    # Future years\n",
    "    future_years = pd.date_range(start='2025', periods=3, freq='Y')\n",
    "\n",
    "    # Define which methods to keep for each specialty\n",
    "    methods_config = {\n",
    "        'Həkimlərin sayı - cəmi': ['arima', 'linear'],\n",
    "        'terapevtlər': ['arima', 'rf', 'prophet'],\n",
    "        'cərrahlar': ['arima', 'rf', 'linear'],\n",
    "        'pediatrlar': ['arima', 'linear'],\n",
    "        'stomatoloq və diş həkimləri': ['arima', 'prophet']\n",
    "    }\n",
    "\n",
    "    # Method display names and colors\n",
    "    method_info = {\n",
    "        'arima': {'name': 'ARIMA', 'color': 'red'},\n",
    "        'prophet': {'name': 'Prophet', 'color': 'green'},\n",
    "        'rf': {'name': 'Random Forest', 'color': 'orange'},\n",
    "        'linear': {'name': 'Xətti Trend', 'color': 'purple'}\n",
    "    }\n",
    "\n",
    "    # Get methods to plot for this specialty\n",
    "    methods_to_plot = methods_config.get(specialty, ['arima', 'prophet'])\n",
    "\n",
    "    # Plot forecasts for selected methods\n",
    "    for method in methods_to_plot:\n",
    "        info = method_info[method]\n",
    "        forecast = data[method]['forecast']\n",
    "\n",
    "        ax.plot(future_years, forecast, 'o--',\n",
    "                label=f'{info[\"name\"]} proqnozu',\n",
    "                color=info['color'], linewidth=2, markersize=6)\n",
    "\n",
    "        # Add confidence intervals if available\n",
    "        conf_int = data[method]['conf_int']\n",
    "        if conf_int is not None:\n",
    "            try:\n",
    "                if hasattr(conf_int, 'values'):\n",
    "                    conf_int = conf_int.values\n",
    "                if conf_int.ndim == 2 and conf_int.shape[1] >= 2:\n",
    "                    ax.fill_between(future_years, conf_int[:, 0], conf_int[:, 1],\n",
    "                                  alpha=0.2, color=info['color'])\n",
    "                elif conf_int.ndim == 1 and len(conf_int) >= 2:\n",
    "                    margin = np.std(forecast) * 0.5\n",
    "                    ax.fill_between(future_years, forecast - margin, forecast + margin,\n",
    "                                  alpha=0.2, color=info['color'])\n",
    "            except:\n",
    "                pass  # Skip if error\n",
    "\n",
    "    ax.set_title(f'{specialty} - Zaman Seriyası Analizi və Proqnoz',\n",
    "                fontsize=14, fontweight='bold')\n",
    "    ax.set_xlabel('İl', fontsize=12)\n",
    "    ax.set_ylabel('Həkimlərin sayı', fontsize=12)\n",
    "    ax.legend(fontsize=10)\n",
    "    ax.grid(True, alpha=0.3)\n",
    "\n",
    "    # Add trend line\n",
    "    from scipy import stats\n",
    "    years_numeric = np.arange(len(historical))\n",
    "    slope, intercept, r_value, p_value, std_err = stats.linregress(years_numeric, historical.values)\n",
    "\n",
    "    # Extend trend line to future\n",
    "    all_years_numeric = np.arange(len(historical) + 3)\n",
    "    trend_line = slope * all_years_numeric + intercept\n",
    "    all_years = list(historical.index) + list(future_years)\n",
    "\n",
    "    # Add explanations for predictions in each visual\n",
    "    visual_explanations = {\n",
    "        'Həkimlərin sayı - cəmi': \"Göstərilən proqnozlara əsasən, həkimlərin sayı növbəti illərdə sabit qalacağını göstərir.\",\n",
    "        'terapevtlər': \"Göstərilən proqnozlara əsasən, terapevtlərin sayında azalma trendi müşahidə olunur.\",\n",
    "        'cərrahlar': \"Göstərilən proqnozlara əsasən, cərrahların sayında sabit artım trendi müşahidə olunur.\",\n",
    "        'pediatrlar': \"Göstərilən proqnozlara əsasən, son illərdə pediatrların sayında azalma müşahidə olunur.\",\n",
    "        'stomatoloq və diş həkimləri': \"Göstərilən proqnozlara əsasən, stomatoloqların sayında sürətli artım davam edildiyi görsənir.\"\n",
    "    }\n",
    "\n",
    "    ax.plot(all_years, trend_line, '--', color='gray', alpha=0.7,\n",
    "            label=f'Trend (R²={r_value**2:.3f})')\n",
    "    ax.legend(fontsize=9)\n",
    "\n",
    "    # Add explanation text below the plot\n",
    "    ax.text(0.5, -0.25, visual_explanations.get(specialty, \"\"),\n",
    "            ha='center', va='top', transform=ax.transAxes,\n",
    "            fontsize=10, style='italic', color='#555555')\n",
    "\n"
   ]
  },
  {
   "cell_type": "code",
   "execution_count": 13,
   "id": "70158d6a",
   "metadata": {
    "execution": {
     "iopub.execute_input": "2025-06-11T10:47:33.550814Z",
     "iopub.status.busy": "2025-06-11T10:47:33.550608Z",
     "iopub.status.idle": "2025-06-11T10:47:33.555751Z",
     "shell.execute_reply": "2025-06-11T10:47:33.555123Z"
    },
    "id": "k5xhHcaji3RP",
    "papermill": {
     "duration": 0.010148,
     "end_time": "2025-06-11T10:47:33.556963",
     "exception": false,
     "start_time": "2025-06-11T10:47:33.546815",
     "status": "completed"
    },
    "tags": []
   },
   "outputs": [],
   "source": [
    "def create_summary_statistics(results):\n",
    "    \"\"\"Create summary statistics table\"\"\"\n",
    "    summary_data = []\n",
    "\n",
    "    for specialty, data in results.items():\n",
    "        historical = data['historical']\n",
    "\n",
    "        # Calculate statistics\n",
    "        mean_val = historical.mean()\n",
    "        std_val = historical.std()\n",
    "        trend = (historical.iloc[-1] - historical.iloc[0]) / len(historical)\n",
    "\n",
    "        # Average forecast across methods\n",
    "        forecasts = []\n",
    "        for method in ['arima', 'prophet', 'rf', 'linear']:\n",
    "            try:\n",
    "                method_forecast = data[method]['forecast']\n",
    "                if hasattr(method_forecast, '__len__') and len(method_forecast) >= 3:\n",
    "                    forecasts.append(method_forecast)\n",
    "            except:\n",
    "                continue\n",
    "\n",
    "        if forecasts:\n",
    "            avg_forecast_2025 = np.mean([f[0] for f in forecasts])\n",
    "            avg_forecast_2026 = np.mean([f[1] for f in forecasts])\n",
    "            avg_forecast_2027 = np.mean([f[2] for f in forecasts])\n",
    "        else:\n",
    "            # Fallback values if no forecasts available\n",
    "            avg_forecast_2025 = historical.iloc[-1]\n",
    "            avg_forecast_2026 = historical.iloc[-1]\n",
    "            avg_forecast_2027 = historical.iloc[-1]\n",
    "\n",
    "        summary_data.append({\n",
    "            'İxtisas': specialty,\n",
    "            'Orta (1991-2024)': f\"{mean_val:.0f}\",\n",
    "            'Standart sapma': f\"{std_val:.0f}\",\n",
    "            'İllik trend': f\"{trend:.1f}\",\n",
    "            '2025 proqnozu': f\"{avg_forecast_2025:.0f}\",\n",
    "            '2026 proqnozu': f\"{avg_forecast_2026:.0f}\",\n",
    "            '2027 proqnozu': f\"{avg_forecast_2027:.0f}\"\n",
    "        })\n",
    "\n",
    "    return pd.DataFrame(summary_data)"
   ]
  },
  {
   "cell_type": "code",
   "execution_count": 14,
   "id": "648438b4",
   "metadata": {
    "execution": {
     "iopub.execute_input": "2025-06-11T10:47:33.563883Z",
     "iopub.status.busy": "2025-06-11T10:47:33.563565Z",
     "iopub.status.idle": "2025-06-11T10:47:33.571068Z",
     "shell.execute_reply": "2025-06-11T10:47:33.570562Z"
    },
    "id": "5XLTj7x1dv6j",
    "papermill": {
     "duration": 0.012048,
     "end_time": "2025-06-11T10:47:33.572040",
     "exception": false,
     "start_time": "2025-06-11T10:47:33.559992",
     "status": "completed"
    },
    "tags": []
   },
   "outputs": [],
   "source": [
    "def draw_summary_figure(pdf, total_doctors, specialties_2024, pie_labels, pie_sizes, growth_rates):\n",
    "    \"\"\"A4 səhifəsində 4 qrafiki estetik şəkildə çəkmək və PDF-ə əlavə etmək\"\"\"\n",
    "    import matplotlib.pyplot as plt\n",
    "    import matplotlib.gridspec as gridspec\n",
    "    import numpy as np\n",
    "\n",
    "    fig = plt.figure(figsize=(8.3, 11.7))  # A4 ölçüsü\n",
    "    gs = gridspec.GridSpec(4, 1, height_ratios=[1, 1, 1, 1])\n",
    "    fig.subplots_adjust(hspace=0.5)\n",
    "\n",
    "    # Qrafik 1 – Ümumi Həkimlərin Sayı\n",
    "    ax1 = fig.add_subplot(gs[0])\n",
    "    ax1.plot(total_doctors.index.year, total_doctors.values, color='#1976D2', linewidth=2, marker='o', markersize=4)\n",
    "    ax1.set_title('Ümumi Həkimlərin Sayı (1991-2024)', fontsize=12, fontweight='bold', pad=8)\n",
    "    ax1.set_xlabel('İl', fontsize=9)\n",
    "    ax1.set_ylabel('Həkimlərin sayı', fontsize=9)\n",
    "    ax1.grid(True, alpha=0.3)\n",
    "    ax1.annotate(f\"{int(total_doctors.values[-1])}\",\n",
    "                 xy=(total_doctors.index.year[-1], total_doctors.values[-1]),\n",
    "                 xytext=(5, 0), textcoords='offset points',\n",
    "                 fontsize=8, fontweight='bold', color='#1976D2')\n",
    "    ax1.tick_params(axis='both', labelsize=8)\n",
    "\n",
    "    # Qrafik 2 – Barh: İxtisaslara görə bölgü\n",
    "    # Barh Chart — ixtisaslar üzrə bölgü\n",
    "    ax2 = fig.add_subplot(gs[1])\n",
    "    bars = ax2.barh(list(specialties_2024.keys()), list(specialties_2024.values()), color='#43A047', alpha=0.85)\n",
    "\n",
    "    ax2.set_title('2024-cü İldə İxtisaslar üzrə Bölgü', fontsize=11, fontweight='bold', pad=6)\n",
    "    ax2.set_xlabel('Həkimlərin sayı', fontsize=9)\n",
    "    ax2.tick_params(axis='both', labelsize=8)\n",
    "    ax2.set_xlim(0, max(specialties_2024.values()) * 1.2)  # sağda boşluq\n",
    "\n",
    "    for label in ax2.get_yticklabels():\n",
    "        label.set_horizontalalignment('right')  # uzun yazılar sola çıxmasın\n",
    "\n",
    "    for bar in bars:\n",
    "        ax2.text(bar.get_width() + max(specialties_2024.values()) * 0.02,\n",
    "                bar.get_y() + bar.get_height()/2,\n",
    "                f\"{int(bar.get_width())}\", va='center', fontsize=7.5, fontweight='bold')\n",
    "\n",
    "    # Qrafik 3 – Pie chart\n",
    "    ax3 = fig.add_subplot(gs[2])\n",
    "    pie_colors = plt.cm.Paired(np.linspace(0, 1, len(pie_labels)))\n",
    "    ax3.pie(pie_sizes, labels=pie_labels, autopct='%1.0f%%', startangle=140,\n",
    "            colors=pie_colors, textprops={'fontsize': 8}, pctdistance=0.75, radius=0.65)\n",
    "    ax3.set_title('2024-cü il üzrə İxtisasların Paylanması', fontsize=11, fontweight='bold', pad=6)\n",
    "\n",
    "    # Qrafik 4 – Artım Dərəcəsi\n",
    "    ax4 = fig.add_subplot(gs[3])\n",
    "    growth_colors = ['#388E3C' if x > 0 else '#D32F2F' for x in growth_rates.values()]\n",
    "    bars2 = ax4.bar(list(growth_rates.keys()), list(growth_rates.values()), color=growth_colors, alpha=0.85)\n",
    "    ax4.set_title('1991-2024 Artım Dərəcəsi (%)', fontsize=12, fontweight='bold', pad=6)\n",
    "    ax4.set_ylabel('Artım faizi', fontsize=9)\n",
    "    ax4.tick_params(axis='x', labelsize=8, rotation=30)\n",
    "    ax4.tick_params(axis='y', labelsize=8)\n",
    "    for bar in bars2:\n",
    "        ax4.text(bar.get_x() + bar.get_width()/2, bar.get_height(), f\"{bar.get_height():.1f}%\",\n",
    "                 ha='center', va='bottom', fontsize=7.5, fontweight='bold')\n",
    "    ax4.axhline(y=0, color='black', linestyle='-', alpha=0.5)\n",
    "\n",
    "    # PDF-ə əlavə et\n",
    "    pdf.savefig(fig, bbox_inches='tight')\n",
    "    plt.close()"
   ]
  },
  {
   "cell_type": "code",
   "execution_count": 15,
   "id": "1a1c5d1e",
   "metadata": {
    "colab": {
     "base_uri": "https://localhost:8080/"
    },
    "execution": {
     "iopub.execute_input": "2025-06-11T10:47:33.578584Z",
     "iopub.status.busy": "2025-06-11T10:47:33.578314Z",
     "iopub.status.idle": "2025-06-11T10:47:41.029486Z",
     "shell.execute_reply": "2025-06-11T10:47:41.028626Z"
    },
    "id": "TpHbNCKH7Nrs",
    "outputId": "465efdf0-2559-4c75-abfc-9fd3d1c3722a",
    "papermill": {
     "duration": 7.456402,
     "end_time": "2025-06-11T10:47:41.031189",
     "exception": false,
     "start_time": "2025-06-11T10:47:33.574787",
     "status": "completed"
    },
    "tags": []
   },
   "outputs": [
    {
     "name": "stderr",
     "output_type": "stream",
     "text": [
      "2025-06-11 14:47:34.546 WARNING streamlit.runtime.scriptrunner_utils.script_run_context: Thread 'MainThread': missing ScriptRunContext! This warning can be ignored when running in bare mode.\n"
     ]
    },
    {
     "name": "stderr",
     "output_type": "stream",
     "text": [
      "2025-06-11 14:47:34.547 WARNING streamlit.runtime.scriptrunner_utils.script_run_context: Thread 'MainThread': missing ScriptRunContext! This warning can be ignored when running in bare mode.\n"
     ]
    },
    {
     "name": "stderr",
     "output_type": "stream",
     "text": [
      "2025-06-11 14:47:35.480 \n",
      "  \u001b[33m\u001b[1mWarning:\u001b[0m to view this Streamlit app on a browser, run it with the following\n",
      "  command:\n",
      "\n",
      "    streamlit run C:\\Users\\xeyyam.huseynli\\Desktop\\4-SİM-Project-1\\4sim_env\\Lib\\site-packages\\ipykernel_launcher.py [ARGUMENTS]\n"
     ]
    },
    {
     "name": "stderr",
     "output_type": "stream",
     "text": [
      "2025-06-11 14:47:35.481 Thread 'MainThread': missing ScriptRunContext! This warning can be ignored when running in bare mode.\n"
     ]
    },
    {
     "name": "stderr",
     "output_type": "stream",
     "text": [
      "2025-06-11 14:47:35.481 Thread 'MainThread': missing ScriptRunContext! This warning can be ignored when running in bare mode.\n"
     ]
    },
    {
     "name": "stderr",
     "output_type": "stream",
     "text": [
      "2025-06-11 14:47:35.482 Thread 'MainThread': missing ScriptRunContext! This warning can be ignored when running in bare mode.\n"
     ]
    },
    {
     "name": "stderr",
     "output_type": "stream",
     "text": [
      "2025-06-11 14:47:35.483 Thread 'MainThread': missing ScriptRunContext! This warning can be ignored when running in bare mode.\n"
     ]
    },
    {
     "name": "stderr",
     "output_type": "stream",
     "text": [
      "2025-06-11 14:47:35.483 Thread 'MainThread': missing ScriptRunContext! This warning can be ignored when running in bare mode.\n"
     ]
    },
    {
     "name": "stderr",
     "output_type": "stream",
     "text": [
      "2025-06-11 14:47:35.483 Thread 'MainThread': missing ScriptRunContext! This warning can be ignored when running in bare mode.\n"
     ]
    },
    {
     "name": "stderr",
     "output_type": "stream",
     "text": [
      "2025-06-11 14:47:35.484 Thread 'MainThread': missing ScriptRunContext! This warning can be ignored when running in bare mode.\n"
     ]
    },
    {
     "name": "stderr",
     "output_type": "stream",
     "text": [
      "2025-06-11 14:47:35.484 Thread 'MainThread': missing ScriptRunContext! This warning can be ignored when running in bare mode.\n"
     ]
    },
    {
     "name": "stderr",
     "output_type": "stream",
     "text": [
      "2025-06-11 14:47:35.485 Thread 'MainThread': missing ScriptRunContext! This warning can be ignored when running in bare mode.\n"
     ]
    },
    {
     "name": "stderr",
     "output_type": "stream",
     "text": [
      "2025-06-11 14:47:35.485 Thread 'MainThread': missing ScriptRunContext! This warning can be ignored when running in bare mode.\n"
     ]
    },
    {
     "name": "stderr",
     "output_type": "stream",
     "text": [
      "2025-06-11 14:47:35.485 Thread 'MainThread': missing ScriptRunContext! This warning can be ignored when running in bare mode.\n"
     ]
    },
    {
     "name": "stderr",
     "output_type": "stream",
     "text": [
      "2025-06-11 14:47:35.486 Thread 'MainThread': missing ScriptRunContext! This warning can be ignored when running in bare mode.\n"
     ]
    },
    {
     "name": "stderr",
     "output_type": "stream",
     "text": [
      "2025-06-11 14:47:35.486 Thread 'MainThread': missing ScriptRunContext! This warning can be ignored when running in bare mode.\n"
     ]
    },
    {
     "name": "stderr",
     "output_type": "stream",
     "text": [
      "2025-06-11 14:47:35.487 Thread 'MainThread': missing ScriptRunContext! This warning can be ignored when running in bare mode.\n"
     ]
    },
    {
     "name": "stderr",
     "output_type": "stream",
     "text": [
      "2025-06-11 14:47:35.487 Thread 'MainThread': missing ScriptRunContext! This warning can be ignored when running in bare mode.\n"
     ]
    },
    {
     "name": "stderr",
     "output_type": "stream",
     "text": [
      "2025-06-11 14:47:35.487 Thread 'MainThread': missing ScriptRunContext! This warning can be ignored when running in bare mode.\n"
     ]
    },
    {
     "name": "stderr",
     "output_type": "stream",
     "text": [
      "2025-06-11 14:47:35.488 Thread 'MainThread': missing ScriptRunContext! This warning can be ignored when running in bare mode.\n"
     ]
    },
    {
     "name": "stderr",
     "output_type": "stream",
     "text": [
      "2025-06-11 14:47:35.488 Thread 'MainThread': missing ScriptRunContext! This warning can be ignored when running in bare mode.\n"
     ]
    },
    {
     "name": "stderr",
     "output_type": "stream",
     "text": [
      "2025-06-11 14:47:35.489 Session state does not function when running a script without `streamlit run`\n"
     ]
    },
    {
     "name": "stderr",
     "output_type": "stream",
     "text": [
      "2025-06-11 14:47:35.489 Thread 'MainThread': missing ScriptRunContext! This warning can be ignored when running in bare mode.\n"
     ]
    },
    {
     "name": "stderr",
     "output_type": "stream",
     "text": [
      "2025-06-11 14:47:35.489 Thread 'MainThread': missing ScriptRunContext! This warning can be ignored when running in bare mode.\n"
     ]
    },
    {
     "name": "stderr",
     "output_type": "stream",
     "text": [
      "2025-06-11 14:47:35.490 Thread 'MainThread': missing ScriptRunContext! This warning can be ignored when running in bare mode.\n"
     ]
    },
    {
     "name": "stderr",
     "output_type": "stream",
     "text": [
      "2025-06-11 14:47:35.490 Thread 'MainThread': missing ScriptRunContext! This warning can be ignored when running in bare mode.\n"
     ]
    },
    {
     "name": "stderr",
     "output_type": "stream",
     "text": [
      "2025-06-11 14:47:35.491 Thread 'MainThread': missing ScriptRunContext! This warning can be ignored when running in bare mode.\n"
     ]
    },
    {
     "name": "stderr",
     "output_type": "stream",
     "text": [
      "2025-06-11 14:47:35.491 Thread 'MainThread': missing ScriptRunContext! This warning can be ignored when running in bare mode.\n"
     ]
    },
    {
     "name": "stderr",
     "output_type": "stream",
     "text": [
      "2025-06-11 14:47:35.491 Thread 'MainThread': missing ScriptRunContext! This warning can be ignored when running in bare mode.\n"
     ]
    },
    {
     "name": "stderr",
     "output_type": "stream",
     "text": [
      "2025-06-11 14:47:35.492 Thread 'MainThread': missing ScriptRunContext! This warning can be ignored when running in bare mode.\n"
     ]
    },
    {
     "name": "stderr",
     "output_type": "stream",
     "text": [
      "2025-06-11 14:47:35.492 Thread 'MainThread': missing ScriptRunContext! This warning can be ignored when running in bare mode.\n"
     ]
    },
    {
     "name": "stderr",
     "output_type": "stream",
     "text": [
      "2025-06-11 14:47:35.492 Thread 'MainThread': missing ScriptRunContext! This warning can be ignored when running in bare mode.\n"
     ]
    },
    {
     "name": "stderr",
     "output_type": "stream",
     "text": [
      "2025-06-11 14:47:35.493 Thread 'MainThread': missing ScriptRunContext! This warning can be ignored when running in bare mode.\n"
     ]
    },
    {
     "name": "stderr",
     "output_type": "stream",
     "text": [
      "2025-06-11 14:47:35.493 Thread 'MainThread': missing ScriptRunContext! This warning can be ignored when running in bare mode.\n"
     ]
    },
    {
     "name": "stderr",
     "output_type": "stream",
     "text": [
      "2025-06-11 14:47:35.493 Thread 'MainThread': missing ScriptRunContext! This warning can be ignored when running in bare mode.\n"
     ]
    },
    {
     "name": "stderr",
     "output_type": "stream",
     "text": [
      "2025-06-11 14:47:35.494 Thread 'MainThread': missing ScriptRunContext! This warning can be ignored when running in bare mode.\n"
     ]
    },
    {
     "name": "stderr",
     "output_type": "stream",
     "text": [
      "2025-06-11 14:47:35.494 Thread 'MainThread': missing ScriptRunContext! This warning can be ignored when running in bare mode.\n"
     ]
    },
    {
     "name": "stderr",
     "output_type": "stream",
     "text": [
      "2025-06-11 14:47:35.494 Thread 'MainThread': missing ScriptRunContext! This warning can be ignored when running in bare mode.\n"
     ]
    },
    {
     "name": "stderr",
     "output_type": "stream",
     "text": [
      "2025-06-11 14:47:35.495 Thread 'MainThread': missing ScriptRunContext! This warning can be ignored when running in bare mode.\n"
     ]
    },
    {
     "name": "stderr",
     "output_type": "stream",
     "text": [
      "2025-06-11 14:47:35.495 Thread 'MainThread': missing ScriptRunContext! This warning can be ignored when running in bare mode.\n"
     ]
    },
    {
     "name": "stderr",
     "output_type": "stream",
     "text": [
      "2025-06-11 14:47:35.495 Thread 'MainThread': missing ScriptRunContext! This warning can be ignored when running in bare mode.\n"
     ]
    },
    {
     "name": "stderr",
     "output_type": "stream",
     "text": [
      "2025-06-11 14:47:35.496 Thread 'MainThread': missing ScriptRunContext! This warning can be ignored when running in bare mode.\n"
     ]
    },
    {
     "name": "stderr",
     "output_type": "stream",
     "text": [
      "2025-06-11 14:47:35.496 Thread 'MainThread': missing ScriptRunContext! This warning can be ignored when running in bare mode.\n"
     ]
    },
    {
     "name": "stderr",
     "output_type": "stream",
     "text": [
      "2025-06-11 14:47:35.497 Thread 'MainThread': missing ScriptRunContext! This warning can be ignored when running in bare mode.\n"
     ]
    },
    {
     "name": "stderr",
     "output_type": "stream",
     "text": [
      "2025-06-11 14:47:35.497 Thread 'MainThread': missing ScriptRunContext! This warning can be ignored when running in bare mode.\n"
     ]
    },
    {
     "name": "stderr",
     "output_type": "stream",
     "text": [
      "2025-06-11 14:47:35.498 Thread 'MainThread': missing ScriptRunContext! This warning can be ignored when running in bare mode.\n"
     ]
    },
    {
     "name": "stderr",
     "output_type": "stream",
     "text": [
      "2025-06-11 14:47:35.498 Thread 'MainThread': missing ScriptRunContext! This warning can be ignored when running in bare mode.\n"
     ]
    },
    {
     "name": "stderr",
     "output_type": "stream",
     "text": [
      "2025-06-11 14:47:35.498 Thread 'MainThread': missing ScriptRunContext! This warning can be ignored when running in bare mode.\n"
     ]
    },
    {
     "name": "stderr",
     "output_type": "stream",
     "text": [
      "2025-06-11 14:47:35.499 Thread 'MainThread': missing ScriptRunContext! This warning can be ignored when running in bare mode.\n"
     ]
    },
    {
     "name": "stderr",
     "output_type": "stream",
     "text": [
      "2025-06-11 14:47:35.499 Thread 'MainThread': missing ScriptRunContext! This warning can be ignored when running in bare mode.\n"
     ]
    },
    {
     "name": "stderr",
     "output_type": "stream",
     "text": [
      "2025-06-11 14:47:35.500 Thread 'MainThread': missing ScriptRunContext! This warning can be ignored when running in bare mode.\n"
     ]
    },
    {
     "name": "stderr",
     "output_type": "stream",
     "text": [
      "2025-06-11 14:47:35.500 Thread 'MainThread': missing ScriptRunContext! This warning can be ignored when running in bare mode.\n"
     ]
    },
    {
     "name": "stderr",
     "output_type": "stream",
     "text": [
      "2025-06-11 14:47:35.500 Thread 'MainThread': missing ScriptRunContext! This warning can be ignored when running in bare mode.\n"
     ]
    },
    {
     "name": "stderr",
     "output_type": "stream",
     "text": [
      "2025-06-11 14:47:35.501 Thread 'MainThread': missing ScriptRunContext! This warning can be ignored when running in bare mode.\n"
     ]
    },
    {
     "name": "stderr",
     "output_type": "stream",
     "text": [
      "2025-06-11 14:47:35.501 Thread 'MainThread': missing ScriptRunContext! This warning can be ignored when running in bare mode.\n"
     ]
    },
    {
     "name": "stderr",
     "output_type": "stream",
     "text": [
      "2025-06-11 14:47:35.501 Thread 'MainThread': missing ScriptRunContext! This warning can be ignored when running in bare mode.\n"
     ]
    },
    {
     "name": "stderr",
     "output_type": "stream",
     "text": [
      "2025-06-11 14:47:35.502 Thread 'MainThread': missing ScriptRunContext! This warning can be ignored when running in bare mode.\n"
     ]
    },
    {
     "name": "stderr",
     "output_type": "stream",
     "text": [
      "2025-06-11 14:47:35.502 Thread 'MainThread': missing ScriptRunContext! This warning can be ignored when running in bare mode.\n"
     ]
    },
    {
     "name": "stderr",
     "output_type": "stream",
     "text": [
      "2025-06-11 14:47:35.502 Thread 'MainThread': missing ScriptRunContext! This warning can be ignored when running in bare mode.\n"
     ]
    },
    {
     "name": "stderr",
     "output_type": "stream",
     "text": [
      "2025-06-11 14:47:35.503 Thread 'MainThread': missing ScriptRunContext! This warning can be ignored when running in bare mode.\n"
     ]
    },
    {
     "name": "stderr",
     "output_type": "stream",
     "text": [
      "2025-06-11 14:47:35.503 Thread 'MainThread': missing ScriptRunContext! This warning can be ignored when running in bare mode.\n"
     ]
    },
    {
     "name": "stderr",
     "output_type": "stream",
     "text": [
      "2025-06-11 14:47:35.503 Thread 'MainThread': missing ScriptRunContext! This warning can be ignored when running in bare mode.\n"
     ]
    },
    {
     "name": "stdout",
     "output_type": "stream",
     "text": [
      "PDF hesabatı yaradılır...\n"
     ]
    },
    {
     "name": "stderr",
     "output_type": "stream",
     "text": [
      "14:47:35 - cmdstanpy - INFO - Chain [1] start processing\n"
     ]
    },
    {
     "name": "stderr",
     "output_type": "stream",
     "text": [
      "14:47:36 - cmdstanpy - INFO - Chain [1] done processing\n"
     ]
    },
    {
     "name": "stderr",
     "output_type": "stream",
     "text": [
      "14:47:36 - cmdstanpy - INFO - Chain [1] start processing\n"
     ]
    },
    {
     "name": "stderr",
     "output_type": "stream",
     "text": [
      "14:47:36 - cmdstanpy - INFO - Chain [1] done processing\n"
     ]
    },
    {
     "name": "stderr",
     "output_type": "stream",
     "text": [
      "14:47:36 - cmdstanpy - INFO - Chain [1] start processing\n"
     ]
    },
    {
     "name": "stderr",
     "output_type": "stream",
     "text": [
      "14:47:37 - cmdstanpy - INFO - Chain [1] done processing\n"
     ]
    },
    {
     "name": "stderr",
     "output_type": "stream",
     "text": [
      "14:47:37 - cmdstanpy - INFO - Chain [1] start processing\n"
     ]
    },
    {
     "name": "stderr",
     "output_type": "stream",
     "text": [
      "14:47:37 - cmdstanpy - INFO - Chain [1] done processing\n"
     ]
    },
    {
     "name": "stderr",
     "output_type": "stream",
     "text": [
      "14:47:38 - cmdstanpy - INFO - Chain [1] start processing\n"
     ]
    },
    {
     "name": "stderr",
     "output_type": "stream",
     "text": [
      "14:47:38 - cmdstanpy - INFO - Chain [1] done processing\n"
     ]
    },
    {
     "name": "stdout",
     "output_type": "stream",
     "text": [
      "Hesabat tamamlandı: 'Birləşdirilmiş_Hesabat.pdf'\n"
     ]
    }
   ],
   "source": [
    "from matplotlib.backends.backend_pdf import PdfPages\n",
    "import matplotlib.pyplot as plt\n",
    "import matplotlib.patches as patches\n",
    "from datetime import datetime\n",
    "import numpy as np\n",
    "from PyPDF2 import PdfMerger\n",
    "\n",
    "try:\n",
    "    from app import params\n",
    "except ImportError:\n",
    "    params = None\n",
    "\n",
    "\n",
    "def generate_pdf_report(results):\n",
    "    \"\"\"Generate comprehensive PDF report\"\"\"\n",
    "    A4_SIZE = (8.3, 11.7)\n",
    "    generated_pdf_path = f\"{sector}_Sektoru_Hesabat_{end_year}.pdf\"\n",
    "    additional_pdf_path = \"Qeydler.pdf\"\n",
    "    merged_pdf_path     = \"Birləşdirilmiş_Hesabat.pdf\"\n",
    "\n",
    "    # First create the title page separately\n",
    "    title_pdf_path = f\"Title_{sector}_Sektoru_{end_year}.pdf\"\n",
    "    \n",
    "    with PdfPages(title_pdf_path) as pdf:\n",
    "        fig, ax = plt.subplots(figsize=A4_SIZE)\n",
    "        ax.axis('off')\n",
    "        # Dynamic title & author\n",
    "        ax.text(0.5, 0.90, f'{sector} Sektoru Hesabat {end_year}',\n",
    "                ha='center', fontsize=24, fontweight='bold')\n",
    "        ax.text(0.5, 0.85,\n",
    "                f'Zaman Seriyası Analizi və Maşın Öyrənməsi Proqnozları ({start_year}–{end_year})',\n",
    "                ha='center', fontsize=16)\n",
    "        ax.text(0.5, 0.80, f'Hazırladı: {name} {surname}',\n",
    "                ha='center', fontsize=14)\n",
    "        ax.text(0.5, 0.75,\n",
    "                f'Tarix: {datetime.now().strftime(\"%d.%m.%Y\")}',\n",
    "                ha='center', fontsize=12)\n",
    "\n",
    "        rect = patches.Rectangle((0.10, 0.65), 0.80, 0.05,\n",
    "                                 linewidth=2, edgecolor='blue',\n",
    "                                 facecolor='lightblue', alpha=0.3)\n",
    "        ax.add_patch(rect)\n",
    "        plt.tight_layout()\n",
    "        pdf.savefig(fig)\n",
    "        plt.close()\n",
    "\n",
    "    # Create the main content pages\n",
    "    content_pdf_path = f\"Content_{sector}_Sektoru_{end_year}.pdf\"\n",
    "    \n",
    "    with PdfPages(content_pdf_path) as pdf:\n",
    "        # Summary page with statistics\n",
    "        total_doctors = results['Həkimlərin sayı - cəmi']['historical']\n",
    "        specialties_2024 = {}\n",
    "        for spec, data in results.items():\n",
    "            if spec != 'Həkimlərin sayı - cəmi':\n",
    "                specialties_2024[spec] = data['historical'].iloc[-1]\n",
    "\n",
    "        pie_labels = list(specialties_2024.keys())\n",
    "        pie_sizes = list(specialties_2024.values())\n",
    "\n",
    "        growth_rates = {}\n",
    "        for spec, data in results.items():\n",
    "            if spec != 'Həkimlərin sayı - cəmi':\n",
    "                hist = data['historical']\n",
    "                growth_rate = ((hist.iloc[-1] - hist.iloc[0]) / hist.iloc[0]) * 100\n",
    "                growth_rates[spec] = growth_rate\n",
    "\n",
    "        fig, axs = plt.subplots(2, 2, figsize=(18, 12))\n",
    "        fig.suptitle('STATİSTİK MƏLUMATLAR - VİZUAL İCMAL', fontsize=28, fontweight='bold', color='black', y=0.98)\n",
    "\n",
    "        draw_summary_figure(pdf, total_doctors, specialties_2024, pie_labels, pie_sizes, growth_rates)\n",
    "        \n",
    "        # Individual specialty forecasts\n",
    "        for specialty, data in results.items():\n",
    "            fig = plt.figure(figsize=A4_SIZE)\n",
    "            ax = fig.add_axes([0.1, 0.5, 0.87, 0.45])\n",
    "            create_forecast_plot(specialty, data, ax)\n",
    "            plt.tight_layout()\n",
    "            pdf.savefig(fig)\n",
    "            plt.close()\n",
    "\n",
    "    # Merge PDFs in the correct order: Title -> Notes -> Content\n",
    "    merger = PdfMerger()\n",
    "    merger.append(title_pdf_path)         # Title page first\n",
    "    merger.append(additional_pdf_path)    # Notes second (right after title)\n",
    "    merger.append(content_pdf_path)       # Content pages last\n",
    "    merger.write(merged_pdf_path)\n",
    "    merger.close()\n",
    "\n",
    "    # Clean up temporary files (optional)\n",
    "    import os\n",
    "    try:\n",
    "        os.remove(title_pdf_path)\n",
    "        os.remove(content_pdf_path)\n",
    "    except:\n",
    "        pass  # If files don't exist or can't be deleted, continue\n",
    "\n",
    "print(\"PDF hesabatı yaradılır...\")\n",
    "results = perform_analysis()\n",
    "generate_pdf_report(results)\n",
    "print(\"Hesabat tamamlandı: 'Birləşdirilmiş_Hesabat.pdf'\")"
   ]
  }
 ],
 "metadata": {
  "colab": {
   "provenance": []
  },
  "kernelspec": {
   "display_name": "4sim_env",
   "language": "python",
   "name": "python3"
  },
  "language_info": {
   "codemirror_mode": {
    "name": "ipython",
    "version": 3
   },
   "file_extension": ".py",
   "mimetype": "text/x-python",
   "name": "python",
   "nbconvert_exporter": "python",
   "pygments_lexer": "ipython3",
   "version": "3.13.3"
  },
  "papermill": {
   "default_parameters": {},
   "duration": 12.693306,
   "end_time": "2025-06-11T10:47:41.598175",
   "environment_variables": {},
   "exception": null,
   "input_path": "AiLab.ipynb",
   "output_path": "AiLab_executed.ipynb",
   "parameters": {
    "end_year": 2028,
    "field": "Həkimlərin sayı",
    "generated_at": "2025-06-11 14:47:28",
    "name": "Xa",
    "sector": "Səhhiyyə",
    "start_year": 2026,
    "surname": "Hu"
   },
   "start_time": "2025-06-11T10:47:28.904869",
   "version": "2.6.0"
  }
 },
 "nbformat": 4,
 "nbformat_minor": 5
}